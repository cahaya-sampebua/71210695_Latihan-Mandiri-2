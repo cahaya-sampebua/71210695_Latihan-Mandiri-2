{
  "cells": [
    {
      "cell_type": "code",
      "execution_count": 4,
      "metadata": {
        "colab": {
          "base_uri": "https://localhost:8080/"
        },
        "id": "8HD0vwOByBB4",
        "outputId": "3925fb5d-4b52-4cb0-9bed-5d921e305568"
      },
      "outputs": [
        {
          "name": "stdout",
          "output_type": "stream",
          "text": [
            "Masukkan tinggi badan Anda (dalam meter): 1.7\n",
            "Masukkan nilai BMI yang diharapkan: 23\n",
            "Berat badan yang diperlukan untuk mencapai BMI 23.0 dengan tinggi badan 1.7 m adalah 66.47 kg\n"
          ]
        }
      ],
      "source": [
        "#Soal 1\n",
        "\n",
        "# Input data\n",
        "tinggi = float(input(\"Masukkan tinggi badan Anda (dalam meter): \"))\n",
        "bmi = float(input(\"Masukkan nilai BMI yang diharapkan: \"))\n",
        "\n",
        "#Perhitungan\n",
        "berat_diperlukan = bmi * tinggi ** 2\n",
        "\n",
        "#Output\n",
        "print(\"Berat badan yang diperlukan untuk mencapai BMI\", bmi, \"dengan tinggi badan\", tinggi, \"m adalah\", berat_diperlukan, \"kg\")\n"
      ]
    },
    {
      "cell_type": "code",
      "execution_count": 2,
      "metadata": {
        "colab": {
          "base_uri": "https://localhost:8080/"
        },
        "id": "6DxqNkBhyBts",
        "outputId": "bcc87e86-846d-463b-b0df-37acdeebafc5"
      },
      "outputs": [
        {
          "name": "stdout",
          "output_type": "stream",
          "text": [
            "Masukkan nilai x (bilangan bulat): 4\n",
            "Hasil dari fungsi f(x) untuk x = 4 adalah 139.75\n"
          ]
        }
      ],
      "source": [
        "# Soal 2\n",
        "\n",
        "# Input nilai x\n",
        "x = int(input(\"Masukkan nilai x (bilangan bulat): \"))\n",
        "\n",
        "# Proses hitung nilai fungsi f(x)\n",
        "hasil = 2*x**3 + 2*x + 15/x\n",
        "\n",
        "# Output hasil\n",
        "print(\"Hasil dari fungsi f(x) untuk x =\", x, \"adalah\", hasil)"
      ]
    },
    {
      "cell_type": "code",
      "execution_count": 1,
      "metadata": {
        "colab": {
          "base_uri": "https://localhost:8080/"
        },
        "id": "Qvn19wUEyB6u",
        "outputId": "88f02e0d-4dfa-4bb0-b8d5-e4020247caf6"
      },
      "outputs": [],
      "source": [
        "#Soal 3\n",
        "\n",
        "#inputan\n",
        "gaji = float(input(\"Gaji/jam: \"))\n",
        "jam = float(input(\"Total jam kerja/ minggu: \"))\n",
        "\n",
        "#proses\n",
        "gaji_pre_pajak = gaji * jam * 5\n",
        "\n",
        "gaji_pos_pajak = gaji_pre_pajak * (100 - 14) / 100\n",
        "uang_baju = gaji_pos_pajak * 10 / 100\n",
        "\n",
        "uang_pensil = gaji_pos_pajak * 1 / 100\n",
        "sedekah = ((gaji_pos_pajak * (100 - 11) / 100) * 25 / 100)\n",
        "\n",
        "yatim = (sedekah // 1000) * 30 / 100 * 1000\n",
        "dhuafa = (sedekah // 1000) * 70 / 100 * 1000\n",
        "\n",
        "#output\n",
        "print(\"Pendapatan sebelum pajak adalah Rp\" + str(gaji_pre_pajak))\n",
        "print(\"Pendapatan sesudah dikurangi pajak adalah Rp\" + str(gaji_pos_pajak))\n",
        "print(\"Uang sedekah adalah Rp\" + str(sedekah))\n",
        "\n",
        "print(\"Anggaran pakaian dan aksesoris adalah Rp\" + str(uang_baju))\n",
        "print(\"Anggaran alat tulis adalah Rp\" + str(uang_pensil))\n",
        "\n",
        "print(\"Uang yang diterima anak yatim adalah Rp\" + str(yatim))\n",
        "print(\"Uang yang diterima kaum dhuafa adalah Rp\" + str(dhuafa))\n",
        "\n"
      ]
    }
  ],
  "metadata": {
    "colab": {
      "provenance": []
    },
    "kernelspec": {
      "display_name": "Python 3",
      "name": "python3"
    },
    "language_info": {
      "codemirror_mode": {
        "name": "ipython",
        "version": 3
      },
      "file_extension": ".py",
      "mimetype": "text/x-python",
      "name": "python",
      "nbconvert_exporter": "python",
      "pygments_lexer": "ipython3",
      "version": "3.11.3"
    }
  },
  "nbformat": 4,
  "nbformat_minor": 0
}
